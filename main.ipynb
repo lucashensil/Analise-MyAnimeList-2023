{
 "cells": [
  {
   "cell_type": "markdown",
   "metadata": {},
   "source": [
    "### Importações e Tratamento inicial dos dados"
   ]
  },
  {
   "cell_type": "code",
   "execution_count": 2,
   "metadata": {},
   "outputs": [],
   "source": [
    "import pandas as pd\n",
    "import numpy as np\n",
    "import matplotlib.pyplot as plt\n",
    "import seaborn as sns\n",
    "from scipy.stats import pearsonr\n",
    "\n",
    "data = pd.read_csv('anime-dataset-2023.csv')"
   ]
  },
  {
   "cell_type": "markdown",
   "metadata": {},
   "source": [
    "### Quais gêneros são mais e menos encontrados entre os animes?\n",
    "\n",
    "#### Resposta encontrada:\n",
    "-  Mais comuns: Comédia, Fantasia e Ação\n",
    "-  Menos comuns: Gourmet, Yuri e Erotico"
   ]
  },
  {
   "cell_type": "code",
   "execution_count": 3,
   "metadata": {},
   "outputs": [
    {
     "data": {
      "text/html": [
       "<div>\n",
       "<style scoped>\n",
       "    .dataframe tbody tr th:only-of-type {\n",
       "        vertical-align: middle;\n",
       "    }\n",
       "\n",
       "    .dataframe tbody tr th {\n",
       "        vertical-align: top;\n",
       "    }\n",
       "\n",
       "    .dataframe thead th {\n",
       "        text-align: right;\n",
       "    }\n",
       "</style>\n",
       "<table border=\"1\" class=\"dataframe\">\n",
       "  <thead>\n",
       "    <tr style=\"text-align: right;\">\n",
       "      <th></th>\n",
       "      <th>Genre</th>\n",
       "      <th>Qtd</th>\n",
       "    </tr>\n",
       "  </thead>\n",
       "  <tbody>\n",
       "    <tr>\n",
       "      <th>9</th>\n",
       "      <td>Comedy</td>\n",
       "      <td>7142</td>\n",
       "    </tr>\n",
       "    <tr>\n",
       "      <th>7</th>\n",
       "      <td>Fantasy</td>\n",
       "      <td>5306</td>\n",
       "    </tr>\n",
       "    <tr>\n",
       "      <th>0</th>\n",
       "      <td>Action</td>\n",
       "      <td>4730</td>\n",
       "    </tr>\n",
       "    <tr>\n",
       "      <th>3</th>\n",
       "      <td>Adventure</td>\n",
       "      <td>3842</td>\n",
       "    </tr>\n",
       "    <tr>\n",
       "      <th>2</th>\n",
       "      <td>Sci-Fi</td>\n",
       "      <td>3091</td>\n",
       "    </tr>\n",
       "    <tr>\n",
       "      <th>4</th>\n",
       "      <td>Drama</td>\n",
       "      <td>2836</td>\n",
       "    </tr>\n",
       "    <tr>\n",
       "      <th>10</th>\n",
       "      <td>Romance</td>\n",
       "      <td>2063</td>\n",
       "    </tr>\n",
       "    <tr>\n",
       "      <th>11</th>\n",
       "      <td>Slice of Life</td>\n",
       "      <td>1755</td>\n",
       "    </tr>\n",
       "    <tr>\n",
       "      <th>6</th>\n",
       "      <td>Supernatural</td>\n",
       "      <td>1494</td>\n",
       "    </tr>\n",
       "    <tr>\n",
       "      <th>19</th>\n",
       "      <td>Hentai</td>\n",
       "      <td>1486</td>\n",
       "    </tr>\n",
       "    <tr>\n",
       "      <th>5</th>\n",
       "      <td>Mystery</td>\n",
       "      <td>847</td>\n",
       "    </tr>\n",
       "    <tr>\n",
       "      <th>15</th>\n",
       "      <td>Avant Garde</td>\n",
       "      <td>804</td>\n",
       "    </tr>\n",
       "    <tr>\n",
       "      <th>13</th>\n",
       "      <td>Ecchi</td>\n",
       "      <td>795</td>\n",
       "    </tr>\n",
       "    <tr>\n",
       "      <th>8</th>\n",
       "      <td>Sports</td>\n",
       "      <td>771</td>\n",
       "    </tr>\n",
       "    <tr>\n",
       "      <th>16</th>\n",
       "      <td>Horror</td>\n",
       "      <td>534</td>\n",
       "    </tr>\n",
       "    <tr>\n",
       "      <th>12</th>\n",
       "      <td>Suspense</td>\n",
       "      <td>242</td>\n",
       "    </tr>\n",
       "    <tr>\n",
       "      <th>1</th>\n",
       "      <td>Award Winning</td>\n",
       "      <td>241</td>\n",
       "    </tr>\n",
       "    <tr>\n",
       "      <th>18</th>\n",
       "      <td>Boys Love</td>\n",
       "      <td>169</td>\n",
       "    </tr>\n",
       "    <tr>\n",
       "      <th>14</th>\n",
       "      <td>Gourmet</td>\n",
       "      <td>146</td>\n",
       "    </tr>\n",
       "    <tr>\n",
       "      <th>17</th>\n",
       "      <td>Girls Love</td>\n",
       "      <td>113</td>\n",
       "    </tr>\n",
       "    <tr>\n",
       "      <th>20</th>\n",
       "      <td>Erotica</td>\n",
       "      <td>54</td>\n",
       "    </tr>\n",
       "  </tbody>\n",
       "</table>\n",
       "</div>"
      ],
      "text/plain": [
       "            Genre   Qtd\n",
       "9          Comedy  7142\n",
       "7         Fantasy  5306\n",
       "0          Action  4730\n",
       "3       Adventure  3842\n",
       "2          Sci-Fi  3091\n",
       "4           Drama  2836\n",
       "10        Romance  2063\n",
       "11  Slice of Life  1755\n",
       "6    Supernatural  1494\n",
       "19         Hentai  1486\n",
       "5         Mystery   847\n",
       "15    Avant Garde   804\n",
       "13          Ecchi   795\n",
       "8          Sports   771\n",
       "16         Horror   534\n",
       "12       Suspense   242\n",
       "1   Award Winning   241\n",
       "18      Boys Love   169\n",
       "14        Gourmet   146\n",
       "17     Girls Love   113\n",
       "20        Erotica    54"
      ]
     },
     "metadata": {},
     "output_type": "display_data"
    },
    {
     "data": {
      "text/plain": [
       "<Axes: xlabel='Genre'>"
      ]
     },
     "execution_count": 3,
     "metadata": {},
     "output_type": "execute_result"
    },
    {
     "data": {
      "image/png": "[encoded data removed]",
      "text/plain": [
       "<Figure size 640x480 with 1 Axes>"
      ]
     },
     "metadata": {},
     "output_type": "display_data"
    }
   ],
   "source": [
    "data_genres = data.loc[data['Genres'] != 'UNKNOWN']\n",
    "anime_genres = data_genres['Genres'].values\n",
    "dic = {}  \n",
    "\n",
    "for genre in anime_genres:\n",
    "\n",
    "    for each_one in genre.split(','):\n",
    "        each_one = each_one.strip() \n",
    "        if not each_one in dic:\n",
    "            dic[each_one] = 1\n",
    "        else:\n",
    "            dic[each_one] += 1\n",
    "\n",
    "\n",
    "\n",
    "df = pd.DataFrame(list(dic.items()), columns=['Genre', 'Qtd'])\n",
    "\n",
    "df = df.sort_values(by='Qtd', ascending=False)\n",
    "display(df)\n",
    "df.plot(kind='bar', x='Genre')\n"
   ]
  },
  {
   "cell_type": "markdown",
   "metadata": {},
   "source": [
    "### Quais são as estatísticas dos scores dos animes?"
   ]
  },
  {
   "cell_type": "markdown",
   "metadata": {},
   "source": [
    "#### Interpretações:\n",
    "\n",
    "Baseando-se nas estatísticas apresentadas, é notável que, na maioria dos casos, as pontuações não são muito altas. A análise da média, mediana e moda revela que as pontuações flutuam principalmente entre 6 e 6,5. Este fato é reforçado pelo desvio padrão ser menor do que 1 e pelo histograma mostrar a maior concentração de notas dentro dessa faixa.\n",
    "\n",
    "O histograma também indica que há poucas notas que se afastam significativamente do valor de 6. No entanto, observa-se que há mais casos de notas mais altas do que mais baixas. Os valores mínimo e máximo mostram que há animes que se destacam da maioria, embora nenhum tenha recebido uma pontuação mínima de 0, que indicaria um completo desprezo, ou uma pontuação máxima de 10, que mostraria uma aceitação universal.\n",
    "\n",
    "A conclusão a partir desses dados sugere que os otakus podem ser críticos severos em suas avaliações. Eles tendem a atribuir notas mais baixas, mas a maioria das avaliações se concentra em torno de uma nota de 6."
   ]
  },
  {
   "cell_type": "code",
   "execution_count": 4,
   "metadata": {},
   "outputs": [
    {
     "data": {
      "text/html": [
       "<div>\n",
       "<style scoped>\n",
       "    .dataframe tbody tr th:only-of-type {\n",
       "        vertical-align: middle;\n",
       "    }\n",
       "\n",
       "    .dataframe tbody tr th {\n",
       "        vertical-align: top;\n",
       "    }\n",
       "\n",
       "    .dataframe thead th {\n",
       "        text-align: right;\n",
       "    }\n",
       "</style>\n",
       "<table border=\"1\" class=\"dataframe\">\n",
       "  <thead>\n",
       "    <tr style=\"text-align: right;\">\n",
       "      <th></th>\n",
       "      <th>Statistics</th>\n",
       "      <th>Value</th>\n",
       "    </tr>\n",
       "  </thead>\n",
       "  <tbody>\n",
       "    <tr>\n",
       "      <th>0</th>\n",
       "      <td>Mean</td>\n",
       "      <td>6.38089</td>\n",
       "    </tr>\n",
       "    <tr>\n",
       "      <th>1</th>\n",
       "      <td>Median</td>\n",
       "      <td>6.39</td>\n",
       "    </tr>\n",
       "    <tr>\n",
       "      <th>2</th>\n",
       "      <td>Mode</td>\n",
       "      <td>[6.31, 6.54]</td>\n",
       "    </tr>\n",
       "    <tr>\n",
       "      <th>3</th>\n",
       "      <td>Minimum</td>\n",
       "      <td>1.85</td>\n",
       "    </tr>\n",
       "    <tr>\n",
       "      <th>4</th>\n",
       "      <td>Maximum</td>\n",
       "      <td>9.1</td>\n",
       "    </tr>\n",
       "    <tr>\n",
       "      <th>5</th>\n",
       "      <td>Standard deviation</td>\n",
       "      <td>0.928696</td>\n",
       "    </tr>\n",
       "  </tbody>\n",
       "</table>\n",
       "</div>"
      ],
      "text/plain": [
       "           Statistics         Value\n",
       "0                Mean       6.38089\n",
       "1              Median          6.39\n",
       "2                Mode  [6.31, 6.54]\n",
       "3             Minimum          1.85\n",
       "4             Maximum           9.1\n",
       "5  Standard deviation      0.928696"
      ]
     },
     "metadata": {},
     "output_type": "display_data"
    },
    {
     "data": {
      "image/png": "[encoded data removed]",
      "text/plain": [
       "<Figure size 640x480 with 1 Axes>"
      ]
     },
     "metadata": {},
     "output_type": "display_data"
    }
   ],
   "source": [
    "data_scores = data.loc[data['Score'] != 'UNKNOWN']\n",
    "scores = data_scores['Score']\n",
    "scores = scores.astype(float)\n",
    "\n",
    "mean = scores.mean()\n",
    "median = scores.median()\n",
    "mode = scores.mode().values\n",
    "minimum = scores.min()\n",
    "maximum = scores.max()\n",
    "std = scores.std()\n",
    "\n",
    "statistics = {'Statistics': ['Mean', 'Median', 'Mode', 'Minimum', 'Maximum', 'Standard deviation'], 'Value': [mean, median, mode, minimum, maximum, std]}\n",
    "\n",
    "df = pd.DataFrame(statistics)\n",
    "display(df)\n",
    "\n",
    "sns.set_style(\"whitegrid\")\n",
    "sns.histplot(scores, bins=30)\n",
    "plt.show()  \n"
   ]
  },
  {
   "cell_type": "markdown",
   "metadata": {},
   "source": [
    "### Quais são os animes que se encontram nos dois extremos de score?\n",
    "\n",
    "#### Resposta encontrada:\n",
    "\n",
    "-  O anime com o maior score: Fullmetal Alchemist: Brotherhood\t\n",
    "-  O anime com o menor score: Tenkuu Danzai Skelter+Heaven"
   ]
  },
  {
   "cell_type": "code",
   "execution_count": 5,
   "metadata": {},
   "outputs": [
    {
     "data": {
      "text/html": [
       "<div>\n",
       "<style scoped>\n",
       "    .dataframe tbody tr th:only-of-type {\n",
       "        vertical-align: middle;\n",
       "    }\n",
       "\n",
       "    .dataframe tbody tr th {\n",
       "        vertical-align: top;\n",
       "    }\n",
       "\n",
       "    .dataframe thead th {\n",
       "        text-align: right;\n",
       "    }\n",
       "</style>\n",
       "<table border=\"1\" class=\"dataframe\">\n",
       "  <thead>\n",
       "    <tr style=\"text-align: right;\">\n",
       "      <th></th>\n",
       "      <th>Name</th>\n",
       "      <th>Score</th>\n",
       "    </tr>\n",
       "  </thead>\n",
       "  <tbody>\n",
       "    <tr>\n",
       "      <th>3961</th>\n",
       "      <td>Fullmetal Alchemist: Brotherhood</td>\n",
       "      <td>9.1</td>\n",
       "    </tr>\n",
       "  </tbody>\n",
       "</table>\n",
       "</div>"
      ],
      "text/plain": [
       "                                  Name Score\n",
       "3961  Fullmetal Alchemist: Brotherhood   9.1"
      ]
     },
     "metadata": {},
     "output_type": "display_data"
    },
    {
     "data": {
      "text/html": [
       "<div>\n",
       "<style scoped>\n",
       "    .dataframe tbody tr th:only-of-type {\n",
       "        vertical-align: middle;\n",
       "    }\n",
       "\n",
       "    .dataframe tbody tr th {\n",
       "        vertical-align: top;\n",
       "    }\n",
       "\n",
       "    .dataframe thead th {\n",
       "        text-align: right;\n",
       "    }\n",
       "</style>\n",
       "<table border=\"1\" class=\"dataframe\">\n",
       "  <thead>\n",
       "    <tr style=\"text-align: right;\">\n",
       "      <th></th>\n",
       "      <th>Name</th>\n",
       "      <th>Score</th>\n",
       "    </tr>\n",
       "  </thead>\n",
       "  <tbody>\n",
       "    <tr>\n",
       "      <th>2925</th>\n",
       "      <td>Tenkuu Danzai Skelter+Heaven</td>\n",
       "      <td>1.85</td>\n",
       "    </tr>\n",
       "  </tbody>\n",
       "</table>\n",
       "</div>"
      ],
      "text/plain": [
       "                              Name Score\n",
       "2925  Tenkuu Danzai Skelter+Heaven  1.85"
      ]
     },
     "metadata": {},
     "output_type": "display_data"
    }
   ],
   "source": [
    "data_scores = data.loc[data['Score'] != 'UNKNOWN']\n",
    "\n",
    "scores = data_scores[['Name', 'Score']]\n",
    "\n",
    "maximum = scores['Score'].max()\n",
    "minimum = scores['Score'].min()\n",
    "\n",
    "best_anime = scores.loc[scores['Score'] == maximum]\n",
    "worst_anime = scores.loc[scores['Score'] == minimum]\n",
    "\n",
    "display(best_anime, worst_anime)"
   ]
  },
  {
   "cell_type": "markdown",
   "metadata": {},
   "source": [
    "### Existe alguma correlação entre o número de episódios e a popularidade de um anime?"
   ]
  },
  {
   "cell_type": "markdown",
   "metadata": {},
   "source": [
    "#### Interpretações:\n",
    "\n",
    "Analisando o valor-p obtido, podemos rejeitar a hipótese nula de que não há nenhuma correlação entre a quantidade de episódios e a popularidade de um anime. No entanto, o coeficiente de Pearson, embora positivo, apresenta um valor relativamente baixo (0,153). Isso indica que, embora exista uma certa tendência de que animes com mais episódios tenham maior popularidade, essa relação não é um fator determinante.\n",
    "\n",
    "A correlação positiva encontrada é moderada. Portanto, outros fatores, como a qualidade da história, a animação, os personagens, o marketing e a base de fãs, provavelmente têm uma influência muito mais significativa na popularidade dos animes do que a quantidade de episódios."
   ]
  },
  {
   "cell_type": "code",
   "execution_count": 12,
   "metadata": {},
   "outputs": [
    {
     "data": {
      "text/html": [
       "<div>\n",
       "<style scoped>\n",
       "    .dataframe tbody tr th:only-of-type {\n",
       "        vertical-align: middle;\n",
       "    }\n",
       "\n",
       "    .dataframe tbody tr th {\n",
       "        vertical-align: top;\n",
       "    }\n",
       "\n",
       "    .dataframe thead th {\n",
       "        text-align: right;\n",
       "    }\n",
       "</style>\n",
       "<table border=\"1\" class=\"dataframe\">\n",
       "  <thead>\n",
       "    <tr style=\"text-align: right;\">\n",
       "      <th></th>\n",
       "      <th>Statistics</th>\n",
       "      <th>Value</th>\n",
       "    </tr>\n",
       "  </thead>\n",
       "  <tbody>\n",
       "    <tr>\n",
       "      <th>0</th>\n",
       "      <td>Correlation</td>\n",
       "      <td>1.532442e-01</td>\n",
       "    </tr>\n",
       "    <tr>\n",
       "      <th>1</th>\n",
       "      <td>P_Value</td>\n",
       "      <td>4.255708e-91</td>\n",
       "    </tr>\n",
       "  </tbody>\n",
       "</table>\n",
       "</div>"
      ],
      "text/plain": [
       "    Statistics         Value\n",
       "0  Correlation  1.532442e-01\n",
       "1      P_Value  4.255708e-91"
      ]
     },
     "metadata": {},
     "output_type": "display_data"
    }
   ],
   "source": [
    "data_popularity = data.query(\"Episodes != 'UNKNOWN' and Popularity != 'UNKNOWN' and Type != 'Music' and Type != 'Movie' \")\n",
    "\n",
    "popularity = data_popularity[['Episodes', 'Popularity']].copy()\n",
    "popularity['Episodes'] = pd.to_numeric(popularity['Episodes'], errors='coerce')\n",
    "popularity['Popularity'] = pd.to_numeric(popularity['Popularity'], errors='coerce')\n",
    "\n",
    "correlation, p_value = pearsonr(popularity['Episodes'], popularity['Popularity'])\n",
    "\n",
    "\n",
    "pearson = {'Statistics': ['Correlation', 'P_Value'], 'Value': [correlation, p_value]}\n",
    "df_pearson = pd.DataFrame(pearson)\n",
    "display(df_pearson)"
   ]
  }
 ],
 "metadata": {
  "kernelspec": {
   "display_name": ".venv",
   "language": "python",
   "name": "python3"
  },
  "language_info": {
   "codemirror_mode": {
    "name": "ipython",
    "version": 3
   },
   "file_extension": ".py",
   "mimetype": "text/x-python",
   "name": "python",
   "nbconvert_exporter": "python",
   "pygments_lexer": "ipython3",
   "version": "3.12.2"
  }
 },
 "nbformat": 4,
 "nbformat_minor": 2
}
